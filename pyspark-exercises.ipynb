{
 "cells": [
  {
   "cell_type": "code",
   "execution_count": 1,
   "id": "9d867484",
   "metadata": {},
   "outputs": [],
   "source": [
    "import pyspark\n",
    "from pyspark.sql import SparkSession"
   ]
  },
  {
   "cell_type": "code",
   "execution_count": 2,
   "id": "18cf8dbd",
   "metadata": {},
   "outputs": [
    {
     "name": "stderr",
     "output_type": "stream",
     "text": [
      "Setting default log level to \"WARN\".\n",
      "To adjust logging level use sc.setLogLevel(newLevel). For SparkR, use setLogLevel(newLevel).\n"
     ]
    },
    {
     "name": "stdout",
     "output_type": "stream",
     "text": [
      "23/01/19 21:45:19 WARN NativeCodeLoader: Unable to load native-hadoop library for your platform... using builtin-java classes where applicable\n",
      "23/01/19 21:45:20 WARN Utils: Service 'SparkUI' could not bind on port 4040. Attempting port 4041.\n",
      "23/01/19 21:45:20 WARN Utils: Service 'SparkUI' could not bind on port 4041. Attempting port 4042.\n",
      "23/01/19 21:45:20 WARN Utils: Service 'SparkUI' could not bind on port 4042. Attempting port 4043.\n",
      "23/01/19 21:45:20 WARN Utils: Service 'SparkUI' could not bind on port 4043. Attempting port 4044.\n"
     ]
    }
   ],
   "source": [
    "spark = SparkSession.builder.master(\"local[*]\").appName(\"Datamanipulation\").getOrCreate()"
   ]
  },
  {
   "cell_type": "code",
   "execution_count": 3,
   "id": "9e64796c",
   "metadata": {},
   "outputs": [
    {
     "data": {
      "text/html": [
       "\n",
       "            <div>\n",
       "                <p><b>SparkSession - in-memory</b></p>\n",
       "                \n",
       "        <div>\n",
       "            <p><b>SparkContext</b></p>\n",
       "\n",
       "            <p><a href=\"http://907a8b64.drm.metu.edu.tr:4044\">Spark UI</a></p>\n",
       "\n",
       "            <dl>\n",
       "              <dt>Version</dt>\n",
       "                <dd><code>v3.3.1</code></dd>\n",
       "              <dt>Master</dt>\n",
       "                <dd><code>local[*]</code></dd>\n",
       "              <dt>AppName</dt>\n",
       "                <dd><code>Datamanipulation</code></dd>\n",
       "            </dl>\n",
       "        </div>\n",
       "        \n",
       "            </div>\n",
       "        "
      ],
      "text/plain": [
       "<pyspark.sql.session.SparkSession at 0x106ffce20>"
      ]
     },
     "execution_count": 3,
     "metadata": {},
     "output_type": "execute_result"
    }
   ],
   "source": [
    "spark"
   ]
  },
  {
   "cell_type": "code",
   "execution_count": 6,
   "id": "1cb29770",
   "metadata": {},
   "outputs": [
    {
     "name": "stderr",
     "output_type": "stream",
     "text": [
      "                                                                                \r"
     ]
    }
   ],
   "source": [
    "# read our data - lives in a csv file\n",
    "\n",
    "df = spark.read.option(\"header\",\"true\").csv(\"/Users/Yasminbarree/Sample - EU Superstore.csv\")"
   ]
  },
  {
   "cell_type": "code",
   "execution_count": 7,
   "id": "6c800030",
   "metadata": {},
   "outputs": [
    {
     "name": "stderr",
     "output_type": "stream",
     "text": [
      "                                                                                \r"
     ]
    },
    {
     "data": {
      "text/plain": [
       "2827"
      ]
     },
     "execution_count": 7,
     "metadata": {},
     "output_type": "execute_result"
    }
   ],
   "source": [
    "# how many rows of the EU Superstore dataset have the country being France\n",
    "#2277\n",
    "df.filter(df['Country'] == \"France\").count()"
   ]
  },
  {
   "cell_type": "code",
   "execution_count": 8,
   "id": "648e5f8a",
   "metadata": {},
   "outputs": [
    {
     "data": {
      "text/plain": [
       "2277"
      ]
     },
     "execution_count": 8,
     "metadata": {},
     "output_type": "execute_result"
    }
   ],
   "source": [
    "# of those, how many are profitable?\n",
    "\n",
    "df.filter((df['Country'] == \"France\") & (df['Profit'] > 0)).count()\n"
   ]
  },
  {
   "cell_type": "code",
   "execution_count": 10,
   "id": "ca611b93",
   "metadata": {},
   "outputs": [
    {
     "name": "stdout",
     "output_type": "stream",
     "text": [
      "+--------+\n",
      "|Discount|\n",
      "+--------+\n",
      "|     0.3|\n",
      "|     0.7|\n",
      "|       0|\n",
      "|     0.2|\n",
      "|    0.15|\n",
      "|    0.35|\n",
      "|     0.8|\n",
      "|    0.45|\n",
      "|     0.5|\n",
      "|    0.65|\n",
      "|     0.6|\n",
      "|     0.1|\n",
      "|    0.85|\n",
      "|     0.4|\n",
      "+--------+\n",
      "\n"
     ]
    }
   ],
   "source": [
    "# how any different discount brackets exist? what are they? # the 14 different discount brackets\n",
    "\n",
    "df.select(\"Discount\").distinct().count()\n",
    "\n",
    "df.select(\"Discount\").distinct().show()\n"
   ]
  },
  {
   "cell_type": "code",
   "execution_count": 12,
   "id": "b2e1f9f0",
   "metadata": {},
   "outputs": [
    {
     "name": "stdout",
     "output_type": "stream",
     "text": [
      "+--------+-------------------+\n",
      "|Discount|        sum(Profit)|\n",
      "+--------+-------------------+\n",
      "|       0| 383806.53000000026|\n",
      "|     0.1|  126884.0309999999|\n",
      "|    0.15| 24677.563499999975|\n",
      "|     0.2| 2189.5499999999984|\n",
      "|     0.3| -758.4209999999999|\n",
      "|    0.35|          -9122.649|\n",
      "|     0.4|-21346.427999999996|\n",
      "|    0.45|         -1103.1915|\n",
      "|     0.5|         -96632.115|\n",
      "|     0.6|-20517.456000000002|\n",
      "|    0.65| -6221.965499999999|\n",
      "|     0.7|          -5496.765|\n",
      "|     0.8|           -460.284|\n",
      "|    0.85|          -3068.658|\n",
      "+--------+-------------------+\n",
      "\n"
     ]
    }
   ],
   "source": [
    "# let's see the total profit by discount bracket, make sure they are ordered by \n",
    "from pyspark.sql.functions import col, sum, mean\n",
    "df.groupBy(\"Discount\").agg(sum(\"Profit\")).orderBy(\"Discount\").show()\n"
   ]
  },
  {
   "cell_type": "code",
   "execution_count": 13,
   "id": "d1d76050",
   "metadata": {},
   "outputs": [
    {
     "name": "stdout",
     "output_type": "stream",
     "text": [
      "+--------+-------------------+\n",
      "|Discount|        sum(Profit)|\n",
      "+--------+-------------------+\n",
      "|       0| 383806.53000000026|\n",
      "|     0.1|  126884.0309999999|\n",
      "|    0.15| 24677.563499999975|\n",
      "|     0.2| 2189.5499999999984|\n",
      "|     0.3| -758.4209999999999|\n",
      "|    0.35|          -9122.649|\n",
      "|     0.4|-21346.427999999996|\n",
      "|    0.45|         -1103.1915|\n",
      "|     0.5|         -96632.115|\n",
      "|     0.6|-20517.456000000002|\n",
      "|    0.65| -6221.965499999999|\n",
      "|     0.7|          -5496.765|\n",
      "|     0.8|           -460.284|\n",
      "|    0.85|          -3068.658|\n",
      "+--------+-------------------+\n",
      "\n"
     ]
    }
   ],
   "source": [
    "# what is the value after which we should stop offering discount?\n",
    "# the discount at 30% or higher shows loss\n",
    "\n",
    "df.groupBy(\"Discount\").agg(sum(\"Profit\")).orderBy(\"Discount\").show()\n"
   ]
  },
  {
   "cell_type": "code",
   "execution_count": 14,
   "id": "aae94ee1",
   "metadata": {},
   "outputs": [
    {
     "name": "stdout",
     "output_type": "stream",
     "text": [
      "+-----------+------------------+\n",
      "|Customer ID|       sum(Profit)|\n",
      "+-----------+------------------+\n",
      "|   SP-20920| 4974.512999999999|\n",
      "|   PJ-18835|3986.0039999999995|\n",
      "|   PO-18865|          3778.197|\n",
      "|   EB-13840|           3459.66|\n",
      "|   MG-18145|3144.4439999999995|\n",
      "+-----------+------------------+\n",
      "only showing top 5 rows\n",
      "\n"
     ]
    }
   ],
   "source": [
    "# who are the top 5 most profitable customers\n",
    "\n",
    "df.groupBy(\"Customer ID\").agg(sum(\"Profit\")).orderBy(sum(\"Profit\"), ascending = False).show(5)\n"
   ]
  },
  {
   "cell_type": "code",
   "execution_count": 15,
   "id": "277c465a",
   "metadata": {},
   "outputs": [
    {
     "name": "stdout",
     "output_type": "stream",
     "text": [
      "+-----------+------------------+\n",
      "|Customer ID|       sum(Profit)|\n",
      "+-----------+------------------+\n",
      "|   SP-20920| 4974.512999999999|\n",
      "|   PJ-18835|3986.0039999999995|\n",
      "|   PO-18865|          3778.197|\n",
      "|   EB-13840|           3459.66|\n",
      "|   MG-18145|3144.4439999999995|\n",
      "+-----------+------------------+\n",
      "only showing top 5 rows\n",
      "\n"
     ]
    }
   ],
   "source": [
    "# get all the rows belonging to those 5 customer names: hint, you may need the collect method - how many rows are they?\n",
    "\n",
    "df.groupBy(\"Customer ID\").agg(sum(\"Profit\")).orderBy(sum(\"Profit\"), ascending = False).show(5)"
   ]
  },
  {
   "cell_type": "code",
   "execution_count": 16,
   "id": "8d0fc034",
   "metadata": {},
   "outputs": [],
   "source": [
    "# create a new column which is the value of the sale were there not discount applied. Hint: orginal = sales/(1-d)\n",
    "\n",
    "df = df.withColumn(\"Original Sale\", df[\"Sales\"]/(1- df[\"Discount\"]))\n",
    "\n"
   ]
  },
  {
   "cell_type": "code",
   "execution_count": 17,
   "id": "ba0f9aa9",
   "metadata": {},
   "outputs": [],
   "source": [
    "# calculate the difference between sales and discount value\n",
    "df = df.withColumn(\"Net sales\", df['Sales'] - df['Discount'])"
   ]
  },
  {
   "cell_type": "code",
   "execution_count": 19,
   "id": "8e810f4f",
   "metadata": {},
   "outputs": [
    {
     "name": "stdout",
     "output_type": "stream",
     "text": [
      "+--------+---------------------+\n",
      "|Discount|sum(Money not gained)|\n",
      "+--------+---------------------+\n",
      "|     0.3|            4296.0603|\n",
      "|     0.7|   1097.2395000000001|\n",
      "|       0|   1522455.8100000003|\n",
      "|     0.2|   34089.984000000004|\n",
      "|    0.15|        217873.133475|\n",
      "|    0.35|          35204.02665|\n",
      "|     0.8|    31.78319999999999|\n",
      "|    0.45|   1400.5356749999999|\n",
      "|     0.5|    91867.13250000023|\n",
      "|    0.65|          2302.935075|\n",
      "|     0.6|   10571.745599999998|\n",
      "|     0.1|    686170.8368999984|\n",
      "|    0.85|   119.52630000000005|\n",
      "|     0.4|    42052.21919999996|\n",
      "+--------+---------------------+\n",
      "\n"
     ]
    }
   ],
   "source": [
    "# how much money did we not gain due to the discounts - per discount bracket?\n",
    "\n",
    "df = df.withColumn(\"Discounted Sale\",  df['Sales'] * df['Discount'])\n",
    "df = df.withColumn(\"Money not gained\", df['Sales'] - df['Discounted Sale'])\n",
    "df.groupBy(\"Discount\").agg(sum(\"Money not gained\")).show()"
   ]
  },
  {
   "cell_type": "code",
   "execution_count": null,
   "id": "76aca9f2",
   "metadata": {},
   "outputs": [],
   "source": [
    "# find the discount bracket which made us not gain the most (dynamically)\n",
    "from pyspark.sql.functions import sum\n",
    "df = df.withColumn(\"Discounted Sale\",  df['Sales'] * df['Discount'])\n",
    "df = df.withColumn(\"Money not gained\", df['Sales'] - df['Discounted Sale'])\n",
    "df.groupBy(\"Discount\").agg(sum(\"Money not gained\")).orderBy(\"sum(Money not gained)\" , ascending = False).limit(1).show()"
   ]
  },
  {
   "cell_type": "code",
   "execution_count": 20,
   "id": "0aa9b685",
   "metadata": {},
   "outputs": [
    {
     "name": "stdout",
     "output_type": "stream",
     "text": [
      "+-----------------+\n",
      "|      sum(Profit)|\n",
      "+-----------------+\n",
      "|372829.7415000005|\n",
      "+-----------------+\n",
      "\n"
     ]
    }
   ],
   "source": [
    "# what would have been the total profit if we removed all orders from that discount group? \n",
    "\n",
    "df.removed_value = df.filter(col(\"Discount\") != \"0\")\n",
    "df_removed_value = df.withColumn(\"Discounted Sale\",  df['Sales'] * df['Discount'])\n",
    "df_removed_value = df.withColumn(\"Money not gained\", df['Sales'] - df['Discounted Sale'])\n",
    "df_removed_value.agg(sum(\"Profit\")).show()\n",
    "\n",
    "\n"
   ]
  },
  {
   "cell_type": "code",
   "execution_count": 21,
   "id": "fca95e60",
   "metadata": {},
   "outputs": [
    {
     "name": "stdout",
     "output_type": "stream",
     "text": [
      "+-------------------+\n",
      "|        sum(Profit)|\n",
      "+-------------------+\n",
      "|-10976.788500000022|\n",
      "+-------------------+\n",
      "\n",
      "+-----------------+\n",
      "|      sum(Profit)|\n",
      "+-----------------+\n",
      "|372829.7415000005|\n",
      "+-----------------+\n",
      "\n"
     ]
    }
   ],
   "source": [
    "#how much more (or less) profit is that?\n",
    "\n",
    "# It means that removing that discount bracket will result is loss of profit estimated 10976 .\n",
    "from pyspark.sql.functions import sum\n",
    "df.removed_value = df.filter(col(\"Discount\") != \"0\")\n",
    "\n",
    "\n",
    "df.removed_value.agg(sum(\"Profit\")).show()\n",
    "df.agg(sum(\"Profit\")).show()"
   ]
  },
  {
   "cell_type": "code",
   "execution_count": 22,
   "id": "0fb49200",
   "metadata": {},
   "outputs": [],
   "source": [
    "# create a temporary table for our superstore table in sql\n",
    "\n",
    "\n",
    "df.createOrReplaceTempView(\"df\")"
   ]
  },
  {
   "cell_type": "code",
   "execution_count": 24,
   "id": "a23e0bca",
   "metadata": {},
   "outputs": [
    {
     "name": "stdout",
     "output_type": "stream",
     "text": [
      "+--------+\n",
      "|count(1)|\n",
      "+--------+\n",
      "|   10000|\n",
      "+--------+\n",
      "\n"
     ]
    }
   ],
   "source": [
    "# use an SQL query to count the number of rows\n",
    "spark.sql(\"SELECT COUNT(*) FROM df\").show()"
   ]
  },
  {
   "cell_type": "code",
   "execution_count": null,
   "id": "8e2cf9f2",
   "metadata": {},
   "outputs": [],
   "source": [
    "# Use an SQL query to calculate the profit ratio for each country: hint, ratio is sum(profit)/sum(sales)\n",
    "\n",
    "spark.sql(\"SELECT Country, sum(Profit)/sum(Sales) as ratio FROM df group by Country \").show()"
   ]
  },
  {
   "cell_type": "code",
   "execution_count": 25,
   "id": "f8cdd772",
   "metadata": {},
   "outputs": [
    {
     "name": "stdout",
     "output_type": "stream",
     "text": [
      "+--------------+--------------------+\n",
      "|       Country|               ratio|\n",
      "+--------------+--------------------+\n",
      "|   Switzerland|  0.2909201193350232|\n",
      "|       Austria|  0.2641908775042505|\n",
      "|        Norway|  0.2517747548521659|\n",
      "|       Belgium| 0.23508766583987942|\n",
      "|United Kingdom| 0.21170103540397134|\n",
      "|         Spain| 0.18941580658358978|\n",
      "|       Finland| 0.18864296633316185|\n",
      "|       Germany| 0.17066792076621765|\n",
      "|        France| 0.12693568221933804|\n",
      "|         Italy| 0.06844355185424991|\n",
      "|       Ireland|-0.44426677493909256|\n",
      "|       Denmark| -0.4957190005664471|\n",
      "|   Netherlands| -0.5298342790541865|\n",
      "|        Sweden| -0.5745674280714466|\n",
      "|      Portugal| -0.5761662270806188|\n",
      "+--------------+--------------------+\n",
      "\n",
      "+--------------+------+\n",
      "|       Country|Profit|\n",
      "+--------------+------+\n",
      "|       Germany|99.696|\n",
      "|        France|99.672|\n",
      "|        France|99.558|\n",
      "|       Germany|99.558|\n",
      "|        France| 99.48|\n",
      "|         Spain|99.441|\n",
      "|       Germany|99.372|\n",
      "|       Germany| 99.36|\n",
      "|        France| 99.36|\n",
      "|         Italy| 99.24|\n",
      "|United Kingdom| 99.24|\n",
      "|United Kingdom| 99.24|\n",
      "|       Germany|99.045|\n",
      "|       Austria|    99|\n",
      "|         Spain|989.01|\n",
      "|       Germany| 98.97|\n",
      "|        France|98.886|\n",
      "|       Austria| 98.88|\n",
      "|       Austria| 98.85|\n",
      "|        France|  98.7|\n",
      "+--------------+------+\n",
      "only showing top 20 rows\n",
      "\n"
     ]
    }
   ],
   "source": [
    "# is the country with the largest profit ratio, the country with the largest profit?\n",
    "# the result of the largest profit ratio is Switzerland and largest profit is Germany.\n",
    "\n",
    "spark.sql(\"SELECT Country, sum(Profit)/sum(Sales) as ratio FROM df group by Country order by ratio desc \").show()\n",
    "spark.sql(\"SELECT Country, Profit FROM df order by Profit desc \").show()\n"
   ]
  },
  {
   "cell_type": "code",
   "execution_count": null,
   "id": "4c7397b1",
   "metadata": {},
   "outputs": [],
   "source": []
  }
 ],
 "metadata": {
  "kernelspec": {
   "display_name": "Python 3 (ipykernel)",
   "language": "python",
   "name": "python3"
  },
  "language_info": {
   "codemirror_mode": {
    "name": "ipython",
    "version": 3
   },
   "file_extension": ".py",
   "mimetype": "text/x-python",
   "name": "python",
   "nbconvert_exporter": "python",
   "pygments_lexer": "ipython3",
   "version": "3.9.13"
  },
  "vscode": {
   "interpreter": {
    "hash": "aee8b7b246df8f9039afb4144a1f6fd8d2ca17a180786b69acc140d282b71a49"
   }
  }
 },
 "nbformat": 4,
 "nbformat_minor": 5
}
